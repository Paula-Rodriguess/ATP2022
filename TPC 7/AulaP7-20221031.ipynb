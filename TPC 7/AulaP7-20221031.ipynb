{
 "cells": [
  {
   "cell_type": "markdown",
   "id": "1e545158",
   "metadata": {},
   "source": [
    "# Aula Prática 7 (guião)\n",
    "### Semana de 31 de Outubro a 4 de Novembro de 2022\n",
    "### José Carlos Ramalho e Luís Cunha\n",
    "### Sinopsis:\n",
    "Algoritmos "
   ]
  },
  {
   "cell_type": "markdown",
   "id": "967431ad",
   "metadata": {},
   "source": [
    "### Exercício 1: Considere os seguintes comentários que definem um modelo para guardar os registos de temperatura e precipitação ao longo de vários dias, materializado na variável tabMeteo1:"
   ]
  },
  {
   "cell_type": "code",
   "execution_count": null,
   "id": "5eda70eb",
   "metadata": {},
   "outputs": [],
   "source": [
    "# TabMeteo = [(Data,TempMin,TempMax,Precipitacao)]\n",
    "    # Data = (Int,Int,Int)\n",
    "    # TempMin = Float\n",
    "    # TempMax = Float\n",
    "    # Precipitacao = Float\n",
    "\n",
    "tabMeteo1 = [((2022,1,20), 2, 16, 0),((2022,1,21), 1, 13, 0.2)]"
   ]
  },
  {
   "cell_type": "markdown",
   "id": "4927f7a9",
   "metadata": {},
   "source": [
    "### 1.a) Calcula a temperatura média de cada dia, dando como resultado uma lista de pares: [(data, temperaturaMédia)]:\n",
    "\n",
    "``` \n",
    "def medias(tabMeteo):\n",
    "    ... \n",
    "    return ... \n",
    "```"
   ]
  },
  {
   "cell_type": "code",
   "execution_count": null,
   "id": "ac235e8f",
   "metadata": {},
   "outputs": [],
   "source": [
    "def medias(tabMeteo):\n",
    "    res = []\n",
    "    for data,tmin,tmax,*_ in tabMeteo:\n",
    "        tmedia = (tmax+tmin)/2\n",
    "        res.append((data,tmedia))\n",
    "    return res\n",
    "\n",
    "print(medias(tabMeteo1))"
   ]
  },
  {
   "cell_type": "markdown",
   "id": "4d8154bb",
   "metadata": {},
   "source": [
    "### 1.b) Calcula a temperatura mínima mais baixa registada na tabela, dando como resultado esse valor:\n",
    "\n",
    "``` \n",
    "def minMin(tabMeteo):\n",
    "    ... \n",
    "    return ... \n",
    "```"
   ]
  },
  {
   "cell_type": "code",
   "execution_count": null,
   "id": "cd08a05f",
   "metadata": {},
   "outputs": [],
   "source": [
    "#Porque nao pode ser a=res[0]"
   ]
  },
  {
   "cell_type": "code",
   "execution_count": null,
   "id": "a01aefa9",
   "metadata": {},
   "outputs": [],
   "source": [
    "def minMin(tabMeteo):\n",
    "    res = []\n",
    "    for _,tmin,*_ in tabMeteo:\n",
    "        res.append(tmin)\n",
    "    ordenado= res.sort\n",
    "    a = ordenado [0]\n",
    "    return a\n",
    "\n",
    "print(minMin(tabMeteo1))"
   ]
  },
  {
   "cell_type": "code",
   "execution_count": null,
   "id": "6680b974",
   "metadata": {},
   "outputs": [],
   "source": [
    "def minMin(tabMeteo):\n",
    "    res= tabMateo[0][1]\n",
    "    for _, tmin,_* in tabMateo :\n",
    "        if tmin < res:\n",
    "            res = tmin\n",
    "    return res\n",
    "print(minMin(tabMateo1))"
   ]
  },
  {
   "cell_type": "markdown",
   "id": "e055ae1a",
   "metadata": {},
   "source": [
    "### 1.c) Calcula a amplitude térmica (diferença entre a temperatura máxima e a temperatura mínima) de cada dia, dando como resultado uma lista de pares: [(data, amplitude)]\n",
    "\n",
    "``` \n",
    "def amplTerm(tabMeteo):\n",
    "    ... \n",
    "    return ... \n",
    "```"
   ]
  },
  {
   "cell_type": "code",
   "execution_count": null,
   "id": "4f76a805",
   "metadata": {},
   "outputs": [],
   "source": [
    "def amplTerm(tabMeteo):\n",
    "    res = [(data,tmax-tmin)] for data,tmin,tmax,_* in tabMeteo:\n",
    "    return res\n",
    "print(amplTerm(tabMeteo1))"
   ]
  },
  {
   "cell_type": "markdown",
   "id": "5c482db9",
   "metadata": {},
   "source": [
    "### 1.d) Calcula o dia em que a precipitação registada teve o seu valor máximo e indica esse valor, dando como resultado o par (data, valor):\n",
    "\n",
    "```\n",
    "def maxChuva(tabMeteo):\n",
    "    ... \n",
    "    return ... \n",
    "```"
   ]
  },
  {
   "cell_type": "code",
   "execution_count": null,
   "id": "21a1e1dc",
   "metadata": {},
   "outputs": [],
   "source": [
    "def maxChuva(tabMeteo):\n",
    "    res=(tabMeteo[0][0],tabMateo[0][3])\n",
    "    for data,_,_,precip in tabMeteo:\n",
    "        if precip > res[1]:\n",
    "            res= (data,precip)        \n",
    "    return res\n",
    "\n",
    "print(maxChuva(tabMeteo1))"
   ]
  },
  {
   "cell_type": "markdown",
   "id": "2f205e2d",
   "metadata": {},
   "source": [
    "### Exercício 2: Voltando a um dos temas abordados nas aulas especifique funções que:\n",
    "\n",
    "### 2.a) Calcula a lista de divisores de um número inteiro (se um número divide o número passado como argumento dando resto zero na divisão inteira, é considerado um divisor desse número):\n",
    "\n",
    "``` \n",
    "def divisores(n):\n",
    "    ... \n",
    "    return ... \n",
    "```"
   ]
  },
  {
   "cell_type": "code",
   "execution_count": null,
   "id": "d2ea4da9",
   "metadata": {},
   "outputs": [],
   "source": [
    "def divisores(n):\n",
    "    res = []\n",
    "    for i in range(1,n+1):\n",
    "        if n % i == 0:\n",
    "            res.append(i)\n",
    "    return res\n",
    "\n",
    "# devisores(n)= [i for i in range(1,n+1) if n % i == 0]\n",
    "for j in range(1, 700, 47):\n",
    "    print(str(j) + \": \" + str(divisores(j)))"
   ]
  },
  {
   "cell_type": "markdown",
   "id": "03887104",
   "metadata": {},
   "source": [
    "### 2.b) Verifica se um número inteiro é primo (tem apenas como divisores a unidade e o próprio número), dando como resultado True ou False:\n",
    "\n",
    "``` \n",
    "def eprimo(n):\n",
    "    ... \n",
    "    return ... \n",
    "```"
   ]
  },
  {
   "cell_type": "code",
   "execution_count": null,
   "id": "ddee7b3f",
   "metadata": {},
   "outputs": [],
   "source": [
    "# Reutilizando a função anterior...\n",
    "def eprimo(n):\n",
    "    return True if divisores(n) == [1,n] else False\n",
    "    #return True if len(divisores(n)) == 2 else False\n",
    "\n",
    "for x in range(1,200):\n",
    "    print(str(x) + \": \" + str(eprimo(x)))"
   ]
  },
  {
   "cell_type": "markdown",
   "id": "ed43d3eb",
   "metadata": {},
   "source": [
    "### 2.c) Calcula a lista de números primos até um determinado número dado (inclusive):\n",
    "\n",
    "```\n",
    "def primosN(n):\n",
    "    ... \n",
    "    return ... \n",
    "```"
   ]
  },
  {
   "cell_type": "code",
   "execution_count": null,
   "id": "f451f1c2",
   "metadata": {},
   "outputs": [],
   "source": [
    "def primosN(n):\n",
    "    #res = [i  for i in range(1,n+1) if eprimo(i)]\n",
    "    res = []\n",
    "    for i in range(1,n+1):\n",
    "        if eprimo(i):\n",
    "            res.append(i)\n",
    "    return res\n",
    "\n",
    "print(primosN(100))"
   ]
  },
  {
   "cell_type": "markdown",
   "id": "d83d31d0",
   "metadata": {},
   "source": [
    "### 2.d) Calcula quantos números inteiros entre 1 e 10000 são múltiplos de 23 e devolve esse número (um múltiplo de 23 é um número que tem 23 como divisor):\n",
    "\n",
    "```\n",
    "def multiplos23():\n",
    "    ... \n",
    "    return ... \n",
    "```"
   ]
  },
  {
   "cell_type": "code",
   "execution_count": null,
   "id": "8931b1ca",
   "metadata": {},
   "outputs": [],
   "source": [
    "def multiplos23():\n",
    "    res = [i for i in  range(1,10001) if i % 23 == 0]\n",
    "    return len(res)\n",
    "\n",
    "print(multiplos23())"
   ]
  },
  {
   "cell_type": "markdown",
   "id": "ae949737",
   "metadata": {},
   "source": [
    "### Exercício 3: Espeficique uma função que recebe um número romano e devolve o correspondente número decimal"
   ]
  },
  {
   "cell_type": "code",
   "execution_count": null,
   "id": "54b85eb0",
   "metadata": {},
   "outputs": [],
   "source": [
    "# Solução do exercício 3\n",
    "def Roman2Dec(r):\n",
    "    romanos = {\n",
    "    'I': (1,'unidades'),\n",
    "    'V':(5,'unidades'),\n",
    "    'X':(10,'dezenas'),\n",
    "    'L':(50,'dezenas'),\n",
    "    'C':(100,'centenas'),\n",
    "    'D':(500,'centenas'),\n",
    "    'M':(1000,'milhares')\n",
    "    }\n",
    "    res = romanos[r[0]][0]\n",
    "    ant = romanos[r[0]][0]\n",
    "    categoria = romanos[r[0]][1]\n",
    "    for letra in r[1:] :\n",
    "        if romanos[letra][1] == categoria:\n",
    "             if romanos[letra][0] > ant:\n",
    "                res = res - ant + romanos[letra][0]-ant\n",
    "                ant = romanos[letra][0]\n",
    "             else:\n",
    "                res= res + romanos[letra][0]\n",
    "                ant = romanos[letra][0]\n",
    "                categoria = romanos[letra][1]\n",
    "        else:\n",
    "            res= res + romanos[letra][0]\n",
    "            ant = romanos[letra][0]\n",
    "            categoria = romanos[letra][1]\n",
    "\n",
    "\n",
    "        \n",
    "\n",
    "    \n",
    "    return res\n",
    "print(Roman2Dec('CDXLIV'))"
   ]
  },
  {
   "cell_type": "markdown",
   "id": "9761d73f",
   "metadata": {},
   "source": [
    "### Metodologia\n",
    "\n",
    "Ao longo dos próximos exercícios irás construir um módulo Python para desenho usando a biblioteca `matplotlib`.\n",
    "Nesse sentido, coloca todas as funções que desenvolveres num módulo chamado `myDrawingFunctions.py` que deverás importar nos programas que irás desenvolver neste guião."
   ]
  },
  {
   "cell_type": "markdown",
   "id": "1d9c2fbc",
   "metadata": {},
   "source": [
    "### Exercício 4: O quadrado \n",
    "\n",
    "Especifica, no teu módulo, uma função para desenhar um quadrado. Além do lado, pensa em parâmetros que te permitam posicionar o quadrado no plano xy.\n",
    "\n",
    "Importa o módulo num programa que irá desenhar os seguintes quadrados:\n",
    "* 1 quadrado de 100 unidades de lado, centrado na origem;\n",
    "* 99 quadrados, dentro do quadrado inicial, em que as coordenadas do canto inferior esquerdo vão sendo incrementadas de 1, ou o lado decrementado de 1."
   ]
  },
  {
   "cell_type": "code",
   "execution_count": null,
   "id": "fde54325",
   "metadata": {},
   "outputs": [],
   "source": [
    "# Solução do exercício 4\n",
    "import myDrawingFunctions as draw\n",
    "\n",
    "draw.quad(0, 0, 100)\n",
    "draw.nquad(0, 0, [x for x in range(1, 101, 5)])"
   ]
  },
  {
   "cell_type": "markdown",
   "id": "57f1522d",
   "metadata": {},
   "source": [
    "### Exercício 5: O retângulo\n",
    "\n",
    "Acrescenta ao teu módulo uma função para desenhar um retângulo devidamente posicionado. Acrescenta um parâmetro cor.\n",
    "\n",
    "Usa agora as funcionalidades do teu módulo para desenhar os seguintes retângulos:\n",
    "* 1 retângulo com o canto inferior esquerdo em (0,0) e o canto superior direito em (5,10);\n",
    "* 10 retângulos, lado a lado, em que os ímpares têm altura 100 e largura 20 e os pares altura 70 e largura 10;\n",
    "* Faz variar a cor entre os retângulos. "
   ]
  },
  {
   "cell_type": "code",
   "execution_count": null,
   "id": "199c3004",
   "metadata": {},
   "outputs": [],
   "source": [
    "# Solução do exercício 5\n",
    "import myDrawingFunctions as draw\n",
    "\n",
    "draw.rect(0, 0, 5, 100)\n"
   ]
  },
  {
   "cell_type": "markdown",
   "id": "08100b64",
   "metadata": {},
   "source": [
    "### Exercício 6: O círculo\n",
    "\n",
    "Acrescenta ao teu módulo uma função para desenhar um círculo devidamente posicionado. Acrescenta um parâmetro cor.\n",
    "\n",
    "Usa agora as funcionalidades do teu módulo para desenhar os seguintes círculos:\n",
    "* 1 círculo de raio 10, centrado na origem;\n",
    "* 10 círculos, concêntricos, centrados na origem, com lados `[10,20,30,40,50,60,70,80,90,100]`;\n",
    "* Faz variar a cor entre os círculos. "
   ]
  },
  {
   "cell_type": "code",
   "execution_count": null,
   "id": "d08949e6",
   "metadata": {},
   "outputs": [],
   "source": [
    "# Solução do exercício 6\n",
    "import myDrawingFunctions as draw\n",
    "\n",
    "draw.circ(0, 0, 10)\n",
    "# ..."
   ]
  },
  {
   "cell_type": "markdown",
   "id": "4193a91b",
   "metadata": {},
   "source": [
    "### TPC7: Análise de dados: Alunos\n",
    "\n",
    "Descarregue o ficheiro de dados: `alunos.csv`\n",
    "Crie um programa em Python, conjunto de funções, que responda às seguintes questões:\n",
    "* Crie uma função que lê a informação do ficheiro para um modelo, previamente pensado em memória;\n",
    "* Crie uma função que calcula a distribuição dos alunos por curso;\n",
    "* Crie uma função que calcula a média das notas de cada aluno e acrescenta essa nova coluna no dataset em memória;\n",
    "* Considere os seguintes escalões de notas: E [1-4], D [5-8], C [9-12], B [13-16], A [17-20], acrescente uma coluna ao dataset com o escalão correspondente a cada aluno;\n",
    "* Crie uma distribuição dos alunos por escalão;\n",
    "* Crie uma função que apresenta na forma dum gráfico de linha uma distribuição;\n",
    "* Crie uma função que imprime na forma de uma tabela uma distribuição;\n",
    "* Especifique um programa que, ciclicamente, apresenta um menu com todas funcionalidades ao utilizador."
   ]
  },
  {
   "cell_type": "code",
   "execution_count": 36,
   "id": "76bb7200",
   "metadata": {},
   "outputs": [
    {
     "name": "stdout",
     "output_type": "stream",
     "text": [
      "\n",
      "    1 - Ler alunos\n",
      "    2 - Distribuir alunos por curso\n",
      "    3 - Calcular média de cada aluno\n",
      "    4 - Calcular escalão de cada aluno\n",
      "    5 - Distribuir alunos por escalão\n",
      "    6 - Gráfico de distribuição de alunos por escalão\n",
      "    7 - Sair\n",
      "    \n",
      "[('a1', 'Aysha Melanie Gilberto', 'LEI', '12', '8', '19', '8'), ('a2', 'Igor André Cantanhede', 'ENGFIS', '12', '16', '18', '20'), ('a3', 'Laurénio Narciso', 'ENGFIS', '8', '14', '15', '14'), ('a4', 'Jasnoor Casegas', 'LCC', '14', '20', '17', '11'), ('a5', 'Tawseef Rebouças', 'ENGBIOM', '13', '14', '13', '17'), ('a6', 'Eryk Clementino', 'LEI', '10', '19', '11', '14'), ('a7', 'Ianna Noivo', 'ENGBIOM', '15', '15', '17', '16'), ('a8', 'Ayla Thaissa Reina', 'ENGBIOM', '12', '8', '8', '18'), ('a9', 'Cássia Viviane Coitã', 'ENGFIS', '19', '9', '14', '10'), ('a10', 'Koby Vindima', 'LEI', '9', '14', '20', '13'), ('a11', 'Gustavo Martim Hernandez', 'ENGBIOM', '11', '8', '14', '11'), ('a12', 'Siddarta Beiriz', 'LEI', '17', '10', '16', '16'), ('a13', 'Daniela Patrícia Montes', 'ENGBIOM', '15', '15', '18', '19'), ('a14', 'Kaylla Pessego', 'LCC', '10', '14', '17', '15'), ('a15', 'Bianca Cristina Primitivo', 'ENGBIOM', '16', '9', '18', '10'), ('a16', 'Magna Galhardo', 'ENGFIS', '20', '18', '9', '14'), ('a17', 'Grace Isabel Patriarca', 'LCC', '19', '13', '9', '10'), ('a18', 'Saubhagya Buco', 'LEI', '18', '18', '17', '8'), ('a19', 'Ivo Vicente Boisa', 'ENGBIOM', '14', '10', '18', '13'), ('a20', 'Vivaan Castilhos', 'ENGFIS', '15', '14', '11', '12'), ('a21', 'Layana Camejo', 'ENGFIS', '17', '12', '10', '20'), ('a22', 'Mahdi Menoita', 'ENGFIS', '11', '16', '8', '16'), ('a23', 'Yifan Cortinado', 'LEI', '19', '16', '8', '18'), ('a24', 'Éder Sodré', 'ENGFIS', '17', '13', '14', '12'), ('a25', 'Dhriti Magano', 'ENGFIS', '19', '11', '8', '19'), ('a26', 'Steve Devesa', 'ENGBIOM', '10', '16', '8', '13'), ('a27', 'Lisandro Mariano Picassinos', 'ENGFIS', '13', '10', '16', '10'), ('a28', 'Itiel Quinoy', 'LEI', '18', '18', '8', '9'), ('a29', 'Pranika Reimoo', 'LEI', '12', '16', '15', '13'), ('a30', 'Manaia Viseu', 'ENGFIS', '8', '12', '20', '11'), ('a31', 'Eva Manuel Caio', 'ENGFIS', '12', '16', '20', '16'), ('a32', 'Ariane Sofia Foja', 'LEI', '20', '19', '13', '18'), ('a33', 'Jaime António Pauseiro', 'LCC', '19', '13', '8', '10'), ('a34', 'Tanisha Marzagoo', 'ENGBIOM', '14', '19', '13', '14'), ('a35', 'Siyon Anca', 'LEI', '8', '13', '19', '15'), ('a36', 'Diana Beatriz Boavista', 'LCC', '19', '18', '17', '12'), ('a37', 'Elisiário Saberio', 'ENGFIS', '18', '18', '10', '19'), ('a38', 'Maira Brites', 'ENGFIS', '13', '16', '15', '17'), ('a39', 'Victória Gabriela Incenso', 'LEI', '17', '14', '13', '8'), ('a40', 'Najua Serôdio', 'LCC', '17', '9', '16', '18'), ('a41', 'Lachezar Rosas', 'ENGBIOM', '16', '18', '18', '15'), ('a42', 'Kattleya Trigueiro', 'ENGFIS', '19', '16', '14', '15'), ('a43', 'Tatiana Guiomar Maricoto', 'LCC', '19', '8', '15', '11'), ('a44', 'Mélanie Daniela Bugalhão', 'LCC', '17', '9', '17', '18'), ('a45', 'Imayame Hespanha', 'ENGFIS', '20', '17', '19', '11'), ('a46', 'Yuri Gabriel Baganha', 'LCC', '15', '18', '12', '16'), ('a47', 'Moisés João Cornelio', 'LEI', '20', '16', '19', '17'), ('a48', 'Nazir Assif Trinta', 'LEI', '14', '14', '12', '8'), ('a49', 'Karamjot Arezes', 'LEI', '10', '9', '20', '12'), ('a50', 'Rishit Justa', 'ENGBIOM', '9', '9', '9', '12'), ('a51', 'Iara de Jesus Gonçalo', 'ENGFIS', '14', '8', '12', '14'), ('a52', 'Stepfan Owusu Lercas', 'LEI', '18', '9', '16', '14'), ('a53', 'Abner Umbelina', 'ENGBIOM', '20', '16', '10', '13'), ('a54', 'Dânia Lucy Montelobo', 'LEI', '18', '19', '15', '11'), ('a55', 'Myla Lopez', 'ENGFIS', '9', '17', '12', '20'), ('a56', 'Hakeem Brazão', 'LEI', '18', '18', '13', '20'), ('a57', 'Quinn Aveiro', 'ENGBIOM', '17', '16', '9', '13'), ('a58', 'Etienne Constentino', 'ENGBIOM', '15', '8', '9', '13'), ('a59', 'Emanuel Marcos Delfina', 'LEI', '9', '15', '8', '13'), ('a60', 'Mariana Catarina Ramalheira', 'ENGBIOM', '17', '19', '19', '11'), ('a61', 'Bradley Tabau', 'LCC', '16', '19', '16', '12'), ('a62', 'Ahmadou Bamba Calcinha', 'LCC', '13', '20', '8', '16'), ('a63', 'Francisco Pedro Derresa', 'ENGFIS', '8', '12', '20', '18'), ('a64', 'Gil Miguel Lima', 'ENGBIOM', '16', '19', '8', '14'), ('a65', 'Leonor Pedro Carqueijeiro', 'ENGBIOM', '19', '11', '17', '8'), ('a66', 'Genrikh Maximovich Vila-Chã', 'ENGFIS', '12', '15', '13', '9'), ('a67', 'Mayra Larissa Rolo', 'LCC', '15', '14', '17', '12'), ('a68', 'Leandro David Dunhoo', 'ENGBIOM', '15', '14', '11', '15'), ('a69', 'Adele Belchior', 'ENGBIOM', '17', '12', '20', '12'), ('a70', 'Frantceska Borreca', 'ENGFIS', '18', '11', '19', '8'), ('a71', 'Derrick Urias', 'ENGFIS', '11', '10', '8', '14'), ('a72', 'Ana Gabriel Quirino', 'LCC', '10', '17', '8', '19'), ('a73', 'Carolina Antoo', 'ENGBIOM', '16', '19', '20', '10'), ('a74', 'Vânia Sofia Porfirio', 'ENGBIOM', '18', '19', '18', '15'), ('a75', 'Dárcio Wosvaldo Tudela', 'LEI', '8', '18', '9', '18'), ('a76', 'Zhara Couxão', 'ENGFIS', '16', '10', '14', '12'), ('a77', 'Tomé Ferrito', 'LCC', '14', '10', '15', '19'), ('a78', 'Iasmin Paloma Chaveiro', 'LCC', '8', '15', '19', '9'), ('a79', 'Sadagi Cruto', 'ENGBIOM', '13', '18', '14', '18'), ('a80', 'Maria Carolina Josué', 'ENGFIS', '17', '20', '17', '18'), ('a81', 'Quaresma Lancastre', 'ENGBIOM', '17', '9', '16', '19'), ('a82', 'Evaldir Gervasio', 'ENGFIS', '16', '19', '15', '8'), ('a83', 'Dolorinda Adolfo', 'ENGFIS', '11', '20', '16', '8'), ('a84', 'Laudário Frasão', 'LCC', '20', '19', '10', '19'), ('a85', 'Rómula Jeronimo', 'ENGFIS', '10', '13', '12', '11'), ('a86', 'Clésio Rodeiro', 'LCC', '9', '13', '12', '18'), ('a87', 'Feliciano José Avis', 'ENGFIS', '9', '11', '10', '9'), ('a88', 'Afonso Adriano Marca', 'ENGBIOM', '8', '16', '12', '15'), ('a89', 'Victória Miguel Rosete', 'ENGFIS', '8', '13', '13', '18'), ('a90', 'Tome Teroso', 'ENGFIS', '9', '9', '10', '17'), ('a91', 'Constança Filipa Melado', 'LEI', '10', '12', '8', '20'), ('a92', 'Madalena Jesus Alfaiate', 'LEI', '17', '14', '9', '17'), ('a93', 'Bivhan Reimbau', 'LCC', '17', '11', '8', '12'), ('a94', 'Viviana Sofia Gaspar', 'ENGBIOM', '16', '16', '20', '14'), ('a95', 'Íris Soraia Chiote', 'LEI', '11', '11', '17', '16'), ('a96', 'Anaïs Sintra', 'LCC', '19', '19', '12', '9'), ('a97', 'Salvador Banaca', 'LCC', '12', '9', '20', '12'), ('a98', 'Guilherme Matias Almeirão', 'ENGFIS', '14', '9', '12', '11'), ('a99', 'Xavier Luís Bulha', 'ENGFIS', '17', '13', '8', '10'), ('a100', 'Tude Searas', 'LEI', '20', '17', '8', '14')]\n",
      "\n",
      "    1 - Ler alunos\n",
      "    2 - Distribuir alunos por curso\n",
      "    3 - Calcular média de cada aluno\n",
      "    4 - Calcular escalão de cada aluno\n",
      "    5 - Distribuir alunos por escalão\n",
      "    6 - Gráfico de distribuição de alunos por escalão\n",
      "    7 - Sair\n",
      "    \n",
      "[('a1', 'Aysha Melanie Gilberto', 'LEI', '12', '8', '19', '8', 'C'), ('a2', 'Igor André Cantanhede', 'ENGFIS', '12', '16', '18', '20', 'C'), ('a3', 'Laurénio Narciso', 'ENGFIS', '8', '14', '15', '14', 'C'), ('a4', 'Jasnoor Casegas', 'LCC', '14', '20', '17', '11', 'B'), ('a5', 'Tawseef Rebouças', 'ENGBIOM', '13', '14', '13', '17', 'B'), ('a6', 'Eryk Clementino', 'LEI', '10', '19', '11', '14', 'B'), ('a7', 'Ianna Noivo', 'ENGBIOM', '15', '15', '17', '16', 'B'), ('a8', 'Ayla Thaissa Reina', 'ENGBIOM', '12', '8', '8', '18', 'C'), ('a9', 'Cássia Viviane Coitã', 'ENGFIS', '19', '9', '14', '10', 'B'), ('a10', 'Koby Vindima', 'LEI', '9', '14', '20', '13', 'B'), ('a11', 'Gustavo Martim Hernandez', 'ENGBIOM', '11', '8', '14', '11', 'C'), ('a12', 'Siddarta Beiriz', 'LEI', '17', '10', '16', '16', 'B'), ('a13', 'Daniela Patrícia Montes', 'ENGBIOM', '15', '15', '18', '19', 'B'), ('a14', 'Kaylla Pessego', 'LCC', '10', '14', '17', '15', 'B'), ('a15', 'Bianca Cristina Primitivo', 'ENGBIOM', '16', '9', '18', '10', 'B'), ('a16', 'Magna Galhardo', 'ENGFIS', '20', '18', '9', '14', 'B'), ('a17', 'Grace Isabel Patriarca', 'LCC', '19', '13', '9', '10', 'B'), ('a18', 'Saubhagya Buco', 'LEI', '18', '18', '17', '8', 'B'), ('a19', 'Ivo Vicente Boisa', 'ENGBIOM', '14', '10', '18', '13', 'B'), ('a20', 'Vivaan Castilhos', 'ENGFIS', '15', '14', '11', '12', 'B'), ('a21', 'Layana Camejo', 'ENGFIS', '17', '12', '10', '20', 'B'), ('a22', 'Mahdi Menoita', 'ENGFIS', '11', '16', '8', '16', 'B'), ('a23', 'Yifan Cortinado', 'LEI', '19', '16', '8', '18', 'B'), ('a24', 'Éder Sodré', 'ENGFIS', '17', '13', '14', '12', 'B'), ('a25', 'Dhriti Magano', 'ENGFIS', '19', '11', '8', '19', 'B'), ('a26', 'Steve Devesa', 'ENGBIOM', '10', '16', '8', '13', 'C'), ('a27', 'Lisandro Mariano Picassinos', 'ENGFIS', '13', '10', '16', '10', 'C'), ('a28', 'Itiel Quinoy', 'LEI', '18', '18', '8', '9', 'B'), ('a29', 'Pranika Reimoo', 'LEI', '12', '16', '15', '13', 'B'), ('a30', 'Manaia Viseu', 'ENGFIS', '8', '12', '20', '11', 'B'), ('a31', 'Eva Manuel Caio', 'ENGFIS', '12', '16', '20', '16', 'B'), ('a32', 'Ariane Sofia Foja', 'LEI', '20', '19', '13', '18', 'A'), ('a33', 'Jaime António Pauseiro', 'LCC', '19', '13', '8', '10', 'A'), ('a34', 'Tanisha Marzagoo', 'ENGBIOM', '14', '19', '13', '14', 'B'), ('a35', 'Siyon Anca', 'LEI', '8', '13', '19', '15', 'B'), ('a36', 'Diana Beatriz Boavista', 'LCC', '19', '18', '17', '12', 'B'), ('a37', 'Elisiário Saberio', 'ENGFIS', '18', '18', '10', '19', 'B'), ('a38', 'Maira Brites', 'ENGFIS', '13', '16', '15', '17', 'B'), ('a39', 'Victória Gabriela Incenso', 'LEI', '17', '14', '13', '8', 'B'), ('a40', 'Najua Serôdio', 'LCC', '17', '9', '16', '18', 'B'), ('a41', 'Lachezar Rosas', 'ENGBIOM', '16', '18', '18', '15', 'B'), ('a42', 'Kattleya Trigueiro', 'ENGFIS', '19', '16', '14', '15', 'B'), ('a43', 'Tatiana Guiomar Maricoto', 'LCC', '19', '8', '15', '11', 'B'), ('a44', 'Mélanie Daniela Bugalhão', 'LCC', '17', '9', '17', '18', 'B'), ('a45', 'Imayame Hespanha', 'ENGFIS', '20', '17', '19', '11', 'B'), ('a46', 'Yuri Gabriel Baganha', 'LCC', '15', '18', '12', '16', 'B'), ('a47', 'Moisés João Cornelio', 'LEI', '20', '16', '19', '17', 'A'), ('a48', 'Nazir Assif Trinta', 'LEI', '14', '14', '12', '8', 'C'), ('a49', 'Karamjot Arezes', 'LEI', '10', '9', '20', '12', 'C'), ('a50', 'Rishit Justa', 'ENGBIOM', '9', '9', '9', '12', 'C'), ('a51', 'Iara de Jesus Gonçalo', 'ENGFIS', '14', '8', '12', '14', 'C'), ('a52', 'Stepfan Owusu Lercas', 'LEI', '18', '9', '16', '14', 'B'), ('a53', 'Abner Umbelina', 'ENGBIOM', '20', '16', '10', '13', 'B'), ('a54', 'Dânia Lucy Montelobo', 'LEI', '18', '19', '15', '11', 'B'), ('a55', 'Myla Lopez', 'ENGFIS', '9', '17', '12', '20', 'B'), ('a56', 'Hakeem Brazão', 'LEI', '18', '18', '13', '20', 'A'), ('a57', 'Quinn Aveiro', 'ENGBIOM', '17', '16', '9', '13', 'B'), ('a58', 'Etienne Constentino', 'ENGBIOM', '15', '8', '9', '13', 'C'), ('a59', 'Emanuel Marcos Delfina', 'LEI', '9', '15', '8', '13', 'C'), ('a60', 'Mariana Catarina Ramalheira', 'ENGBIOM', '17', '19', '19', '11', 'C'), ('a61', 'Bradley Tabau', 'LCC', '16', '19', '16', '12', 'B'), ('a62', 'Ahmadou Bamba Calcinha', 'LCC', '13', '20', '8', '16', 'B'), ('a63', 'Francisco Pedro Derresa', 'ENGFIS', '8', '12', '20', '18', 'B'), ('a64', 'Gil Miguel Lima', 'ENGBIOM', '16', '19', '8', '14', 'B'), ('a65', 'Leonor Pedro Carqueijeiro', 'ENGBIOM', '19', '11', '17', '8', 'B'), ('a66', 'Genrikh Maximovich Vila-Chã', 'ENGFIS', '12', '15', '13', '9', 'B'), ('a67', 'Mayra Larissa Rolo', 'LCC', '15', '14', '17', '12', 'B'), ('a68', 'Leandro David Dunhoo', 'ENGBIOM', '15', '14', '11', '15', 'B'), ('a69', 'Adele Belchior', 'ENGBIOM', '17', '12', '20', '12', 'B'), ('a70', 'Frantceska Borreca', 'ENGFIS', '18', '11', '19', '8', 'B'), ('a71', 'Derrick Urias', 'ENGFIS', '11', '10', '8', '14', 'C'), ('a72', 'Ana Gabriel Quirino', 'LCC', '10', '17', '8', '19', 'B'), ('a73', 'Carolina Antoo', 'ENGBIOM', '16', '19', '20', '10', 'B'), ('a74', 'Vânia Sofia Porfirio', 'ENGBIOM', '18', '19', '18', '15', 'A'), ('a75', 'Dárcio Wosvaldo Tudela', 'LEI', '8', '18', '9', '18', 'B'), ('a76', 'Zhara Couxão', 'ENGFIS', '16', '10', '14', '12', 'B'), ('a77', 'Tomé Ferrito', 'LCC', '14', '10', '15', '19', 'B'), ('a78', 'Iasmin Paloma Chaveiro', 'LCC', '8', '15', '19', '9', 'B'), ('a79', 'Sadagi Cruto', 'ENGBIOM', '13', '18', '14', '18', 'B'), ('a80', 'Maria Carolina Josué', 'ENGFIS', '17', '20', '17', '18', 'A'), ('a81', 'Quaresma Lancastre', 'ENGBIOM', '17', '9', '16', '19', 'B'), ('a82', 'Evaldir Gervasio', 'ENGFIS', '16', '19', '15', '8', 'B'), ('a83', 'Dolorinda Adolfo', 'ENGFIS', '11', '20', '16', '8', 'B'), ('a84', 'Laudário Frasão', 'LCC', '20', '19', '10', '19', 'A'), ('a85', 'Rómula Jeronimo', 'ENGFIS', '10', '13', '12', '11', 'C'), ('a86', 'Clésio Rodeiro', 'LCC', '9', '13', '12', '18', 'B'), ('a87', 'Feliciano José Avis', 'ENGFIS', '9', '11', '10', '9', 'C'), ('a88', 'Afonso Adriano Marca', 'ENGBIOM', '8', '16', '12', '15', 'C'), ('a89', 'Victória Miguel Rosete', 'ENGFIS', '8', '13', '13', '18', 'B'), ('a90', 'Tome Teroso', 'ENGFIS', '9', '9', '10', '17', 'C'), ('a91', 'Constança Filipa Melado', 'LEI', '10', '12', '8', '20', 'C'), ('a92', 'Madalena Jesus Alfaiate', 'LEI', '17', '14', '9', '17', 'B'), ('a93', 'Bivhan Reimbau', 'LCC', '17', '11', '8', '12', 'C'), ('a94', 'Viviana Sofia Gaspar', 'ENGBIOM', '16', '16', '20', '14', 'C'), ('a95', 'Íris Soraia Chiote', 'LEI', '11', '11', '17', '16', 'B'), ('a96', 'Anaïs Sintra', 'LCC', '19', '19', '12', '9', 'B'), ('a97', 'Salvador Banaca', 'LCC', '12', '9', '20', '12', 'B'), ('a98', 'Guilherme Matias Almeirão', 'ENGFIS', '14', '9', '12', '11', 'C'), ('a99', 'Xavier Luís Bulha', 'ENGFIS', '17', '13', '8', '10', 'C'), ('a100', 'Tude Searas', 'LEI', '20', '17', '8', '14', 'B')]\n",
      "\n",
      "    1 - Ler alunos\n",
      "    2 - Distribuir alunos por curso\n",
      "    3 - Calcular média de cada aluno\n",
      "    4 - Calcular escalão de cada aluno\n",
      "    5 - Distribuir alunos por escalão\n",
      "    6 - Gráfico de distribuição de alunos por escalão\n",
      "    7 - Sair\n",
      "    \n"
     ]
    },
    {
     "ename": "ValueError",
     "evalue": "invalid literal for int() with base 10: ''",
     "output_type": "error",
     "traceback": [
      "\u001b[1;31m---------------------------------------------------------------------------\u001b[0m",
      "\u001b[1;31mValueError\u001b[0m                                Traceback (most recent call last)",
      "Cell \u001b[1;32mIn [36], line 165\u001b[0m\n\u001b[0;32m    162\u001b[0m         menu()\n\u001b[0;32m    163\u001b[0m     menu()\n\u001b[1;32m--> 165\u001b[0m menu()\n",
      "Cell \u001b[1;32mIn [36], line 163\u001b[0m, in \u001b[0;36mmenu\u001b[1;34m()\u001b[0m\n\u001b[0;32m    161\u001b[0m     \u001b[39mprint\u001b[39m(\u001b[39m'\u001b[39m\u001b[39mOpção inválida\u001b[39m\u001b[39m'\u001b[39m)\n\u001b[0;32m    162\u001b[0m     menu()\n\u001b[1;32m--> 163\u001b[0m menu()\n",
      "Cell \u001b[1;32mIn [36], line 163\u001b[0m, in \u001b[0;36mmenu\u001b[1;34m()\u001b[0m\n\u001b[0;32m    161\u001b[0m     \u001b[39mprint\u001b[39m(\u001b[39m'\u001b[39m\u001b[39mOpção inválida\u001b[39m\u001b[39m'\u001b[39m)\n\u001b[0;32m    162\u001b[0m     menu()\n\u001b[1;32m--> 163\u001b[0m menu()\n",
      "Cell \u001b[1;32mIn [36], line 145\u001b[0m, in \u001b[0;36mmenu\u001b[1;34m()\u001b[0m\n\u001b[0;32m    135\u001b[0m \u001b[39mdef\u001b[39;00m \u001b[39mmenu\u001b[39m():\n\u001b[0;32m    136\u001b[0m     \u001b[39mprint\u001b[39m(\u001b[39m'''\u001b[39m\n\u001b[0;32m    137\u001b[0m \u001b[39m    1 - Ler alunos\u001b[39m\n\u001b[0;32m    138\u001b[0m \u001b[39m    2 - Distribuir alunos por curso\u001b[39m\n\u001b[1;32m   (...)\u001b[0m\n\u001b[0;32m    143\u001b[0m \u001b[39m    7 - Sair\u001b[39m\n\u001b[0;32m    144\u001b[0m \u001b[39m    \u001b[39m\u001b[39m'''\u001b[39m)\n\u001b[1;32m--> 145\u001b[0m     op \u001b[39m=\u001b[39m \u001b[39mint\u001b[39;49m(\u001b[39minput\u001b[39;49m(\u001b[39m'\u001b[39;49m\u001b[39mEscolha uma opção: \u001b[39;49m\u001b[39m'\u001b[39;49m))\n\u001b[0;32m    146\u001b[0m     \u001b[39mif\u001b[39;00m op \u001b[39m==\u001b[39m \u001b[39m1\u001b[39m:\n\u001b[0;32m    147\u001b[0m         \u001b[39mprint\u001b[39m(lerAlunos())\n",
      "\u001b[1;31mValueError\u001b[0m: invalid literal for int() with base 10: ''"
     ]
    }
   ],
   "source": [
    "import csv\n",
    "\n",
    "def lerAlunos():\n",
    "    ficheiro = open('alunos.csv', mode='r', encoding = \"utf-8\")\n",
    "    ficheiro.readline()#lê esta linha e descarta-a\n",
    "    lerFicheiro= csv.reader(ficheiro, delimiter=\",\")\n",
    "    alunos = []\n",
    "    for linha in lerFicheiro:\n",
    "        alunos.append(tuple(linha))\n",
    "    return alunos\n",
    "\n",
    "listaAlunos = lerAlunos()\n",
    "\n",
    "def distrialunosCurso(alunos):\n",
    "    dict = {}\n",
    "    for _,nome,curso,*_ in alunos:\n",
    "        if curso in dict.keys():\n",
    "            dict[curso].append(nome)#À frente do curso aparece nome.\n",
    "        else:\n",
    "            dict[curso]=[nome]\n",
    "    dict2={}\n",
    "    for curso in dict:\n",
    "        dict2[curso] = len(dict[curso])\n",
    "    print(dict2,dict)\n",
    "\n",
    "def mediaAlunos(alunos):\n",
    "    for _,nome,_,tpc1,tpc2,tpc3,tpc4 in alunos:\n",
    "        soma = int(tpc1) + int(tpc2) + int(tpc3) + int(tpc4)\n",
    "        media = soma / 4\n",
    "        # Adicionar a media ao nome do aluno em listaAlunos\n",
    "        for i in range(len(listaAlunos)):\n",
    "            if listaAlunos[i][1] == nome:\n",
    "                listaAlunos[i] = listaAlunos[i] + (media,)\n",
    "    print(listaAlunos)\n",
    "\n",
    "def escalaoAlunos(alunos):\n",
    "    for _,nome,_,tpc1,tpc2,tpc3,tpc4 in alunos:\n",
    "        soma = int(tpc1) + int(tpc2) + int(tpc3) + int(tpc4)\n",
    "        media = soma / 4\n",
    "        if media >= 1 and media <= 4:\n",
    "            esc = 'E'\n",
    "        elif media >= 5 and media <= 8:\n",
    "            esc = 'D'\n",
    "        elif media >= 9 and media <= 12:\n",
    "            esc = 'C'\n",
    "        elif media >= 13 and media <= 16:\n",
    "            esc = 'B'\n",
    "        elif media >= 17 and media <= 20:\n",
    "            esc = 'A'\n",
    "        # Adicionar a media ao nome do aluno em listaAlunos\n",
    "        for i in range(len(listaAlunos)):\n",
    "            if listaAlunos[i][1] == nome:\n",
    "                listaAlunos[i] = listaAlunos[i] + (esc,)\n",
    "    print(listaAlunos)\n",
    "\n",
    "def distrialunosEscalao(alunos):\n",
    "    dict = {}\n",
    "    for _,nome,_,tpc1,tpc2,tpc3,tpc4 in alunos:\n",
    "        soma = int(tpc1) + int(tpc2) + int(tpc3) + int(tpc4)\n",
    "        media = soma / 4\n",
    "        if media >= 1 and media <= 4:\n",
    "            esc = 'E'\n",
    "        elif media >= 5 and media <= 8:\n",
    "            esc = 'D'\n",
    "        elif media >= 9 and media <= 12:\n",
    "            esc = 'C'\n",
    "        elif media >= 13 and media <= 16:\n",
    "            esc = 'B'\n",
    "        elif media >= 17 and media <= 20:\n",
    "            esc = 'A'\n",
    "        if esc in dict.keys():\n",
    "            dict[esc].append(nome)#À frente do curso aparece nome.\n",
    "        else:\n",
    "            dict[esc]=[nome]\n",
    "    dict2={}\n",
    "    for esc in dict:\n",
    "        dict2[esc] = len(dict[esc])\n",
    "    print(dict2,dict)\n",
    "\n",
    "import matplotlib.pyplot as plt\n",
    "\n",
    "def distribuicaoAlunos(alunos):\n",
    "    dict = {}\n",
    "    for _,nome,_,tpc1,tpc2,tpc3,tpc4,*_ in alunos:\n",
    "        soma = int(tpc1) + int(tpc2) + int(tpc3) + int(tpc4)\n",
    "        media = soma / 4\n",
    "        if media >= 1 and media <= 4:\n",
    "            esc = 'E'\n",
    "        elif media >= 5 and media <= 8:\n",
    "            esc = 'D'\n",
    "        elif media >= 9 and media <= 12:\n",
    "            esc = 'C'\n",
    "        elif media >= 13 and media <= 16:\n",
    "            esc = 'B'\n",
    "        elif media >= 17 and media <= 20:\n",
    "            esc = 'A'\n",
    "        if esc in dict.keys():\n",
    "            dict[esc].append(nome)#À frente do curso aparece nome.\n",
    "        else:\n",
    "            dict[esc]=[nome]\n",
    "    dict2={}\n",
    "    for esc in dict:\n",
    "        dict2[esc] = len(dict[esc])\n",
    "    print(dict2,dict)\n",
    "    plt.plot(dict2.keys(),dict2.values())\n",
    "    plt.show()\n",
    "\n",
    "#import pandas as pd\n",
    "def distribuicaoAlunos(alunos):\n",
    "    dict = {}\n",
    "    for _,nome,_,tpc1,tpc2,tpc3,tpc4,*_ in alunos:\n",
    "        soma = int(tpc1) + int(tpc2) + int(tpc3) + int(tpc4)\n",
    "        media = soma / 4\n",
    "        if media >= 1 and media <= 4:\n",
    "            esc = 'E'\n",
    "        elif media >= 5 and media <= 8:\n",
    "            esc = 'D'\n",
    "        elif media >= 9 and media <= 12:\n",
    "            esc = 'C'\n",
    "        elif media >= 13 and media <= 16:\n",
    "            esc = 'B'\n",
    "        elif media >= 17 and media <= 20:\n",
    "            esc = 'A'\n",
    "        if esc in dict.keys():\n",
    "            dict[esc].append(nome)#À frente do curso aparece nome.\n",
    "        else:\n",
    "            dict[esc]=[nome]\n",
    "    dict2={}\n",
    "    for esc in dict:\n",
    "        dict2[esc] = len(dict[esc])\n",
    "    print(dict2,dict)\n",
    "    df = pd.DataFrame(dict2.items(), columns=['Escalão', 'Número de alunos'])\n",
    "    print(df)\n",
    "\n",
    "def menu():\n",
    "    print('''\n",
    "    1 - Ler alunos\n",
    "    2 - Distribuir alunos por curso\n",
    "    3 - Calcular média de cada aluno\n",
    "    4 - Calcular escalão de cada aluno\n",
    "    5 - Distribuir alunos por escalão\n",
    "    6 - Gráfico de distribuição de alunos por escalão\n",
    "    7 - Sair\n",
    "    ''')\n",
    "    op = int(input('Escolha uma opção: '))\n",
    "    if op == 1:\n",
    "        print(lerAlunos())\n",
    "    elif op == 2:\n",
    "        distrialunosCurso(listaAlunos)\n",
    "    elif op == 3:\n",
    "        mediaAlunos(listaAlunos)\n",
    "    elif op == 4:\n",
    "        escalaoAlunos(listaAlunos)\n",
    "    elif op == 5:\n",
    "        distrialunosEscalao(listaAlunos)\n",
    "    elif op == 6:\n",
    "        distribuicaoAlunos(listaAlunos)\n",
    "    elif op == 7:\n",
    "        print('Sair')\n",
    "    else:\n",
    "        print('Opção inválida')\n",
    "        menu()\n",
    "    menu()\n",
    "\n",
    "menu()"
   ]
  }
 ],
 "metadata": {
  "kernelspec": {
   "display_name": "Python 3",
   "language": "python",
   "name": "python3"
  },
  "language_info": {
   "codemirror_mode": {
    "name": "ipython",
    "version": 3
   },
   "file_extension": ".py",
   "mimetype": "text/x-python",
   "name": "python",
   "nbconvert_exporter": "python",
   "pygments_lexer": "ipython3",
   "version": "3.11.0 (main, Oct 24 2022, 18:26:48) [MSC v.1933 64 bit (AMD64)]"
  },
  "vscode": {
   "interpreter": {
    "hash": "8a5edab282632443219e051e4ade2d1d5bbc671c781051bf1437897cbdfea0f1"
   }
  }
 },
 "nbformat": 4,
 "nbformat_minor": 5
}
